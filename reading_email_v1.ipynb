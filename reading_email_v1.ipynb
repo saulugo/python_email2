{
 "cells": [
  {
   "cell_type": "markdown",
   "metadata": {},
   "source": [
    "# A script to read emails using IMAP server from Python"
   ]
  },
  {
   "cell_type": "markdown",
   "metadata": {},
   "source": [
    "## Notes\n",
    "\n",
    "In order to login to your gmail account from this script you must do the following configuration in your account:\n",
    "\n",
    "1. Allow \"less secure apps to connect to your account\" in your gmail account configuration https://support.google.com/accounts/answer/6010255\n",
    "\n",
    "2. Enable IMAP in your e-mail configuration in gmail"
   ]
  },
  {
   "cell_type": "code",
   "execution_count": 97,
   "metadata": {
    "collapsed": true
   },
   "outputs": [],
   "source": [
    "import smtplib\n",
    "import time\n",
    "import imaplib\n",
    "import email\n",
    "import sys\n",
    "import re"
   ]
  },
  {
   "cell_type": "code",
   "execution_count": 15,
   "metadata": {
    "collapsed": true
   },
   "outputs": [],
   "source": [
    "SMTP_SERVER = 'imap.gmail.com' #imap server to read emails,  smtp.gmail.com server to send emails\n",
    "ORG_EMAIL   = \"@gmail.com\"\n",
    "FROM_EMAIL  = \"your_username\" + ORG_EMAIL\n",
    "FROM_PWD    = \"your_password\"\n",
    "SMTP_PORT   = 993"
   ]
  },
  {
   "cell_type": "code",
   "execution_count": 98,
   "metadata": {
    "collapsed": false
   },
   "outputs": [],
   "source": [
    "def read_email_from_gmail():\n",
    "    try:\n",
    "        mail = imaplib.IMAP4_SSL(SMTP_SERVER)\n",
    "        mail.login(FROM_EMAIL,FROM_PWD)\n",
    "        mail.select('inbox') #label to be searched in the email\n",
    "\n",
    "        type, data = mail.search(None, 'ALL')\n",
    "        mail_ids = data[0]\n",
    "\n",
    "        id_list = mail_ids.split()   \n",
    "        first_email_id = int(id_list[0])\n",
    "        latest_email_id = int(id_list[-1])\n",
    "\n",
    "\n",
    "        for i in range(latest_email_id,first_email_id, -1):\n",
    "            typ, data = mail.fetch(str(i), '(RFC822)' )\n",
    "            msg = email.message_from_string(data[0][1].decode('utf-8'))\n",
    "            email_subject = msg['subject']\n",
    "            email_from = msg['from']\n",
    "            match = re.search(r'[\\w\\.-]+@[\\w\\.-]+', email_from) #extracting the e-mail address with a regular expression\n",
    "            print('From: {} '.format(match.group(0)))\n",
    "            print('Subject: {} '.format(email_subject))\n",
    "\n",
    "    except:\n",
    "        print(\"Unexpected error:\", sys.exc_info()[0])\n",
    "        raise"
   ]
  },
  {
   "cell_type": "code",
   "execution_count": 113,
   "metadata": {
    "collapsed": false
   },
   "outputs": [],
   "source": [
    "def extract_email_addresses(filename):\n",
    "    try:\n",
    "        mail = imaplib.IMAP4_SSL(SMTP_SERVER)\n",
    "        mail.login(FROM_EMAIL,FROM_PWD)\n",
    "        mail.select('inbox') #label to be searched in the email\n",
    "\n",
    "        type, data = mail.search(None, 'ALL')\n",
    "        mail_ids = data[0]\n",
    "\n",
    "        id_list = mail_ids.split()   \n",
    "        first_email_id = int(id_list[0])\n",
    "        latest_email_id = int(id_list[-1])\n",
    "\n",
    "        f = open(filename,'w')\n",
    "        \n",
    "        for i in range(latest_email_id,first_email_id, -1):\n",
    "            typ, data = mail.fetch(str(i), '(RFC822)' )\n",
    "            try:\n",
    "                msg = email.message_from_string(data[0][1].decode('utf-8'))\n",
    "                email_from = msg['from']\n",
    "                match = re.search(r'[\\w\\.-]+@[\\w\\.-]+', email_from) #extracting the e-mail address with a regular expression\n",
    "                email_address = match.group(0)\n",
    "                f.write('{}\\n'.format(email_address))\n",
    "                print(email_address)\n",
    "            except:\n",
    "                pass\n",
    "            \n",
    "        f.close()\n",
    "    except:\n",
    "        print(\"Unexpected error:\", sys.exc_info()[0])\n",
    "        raise"
   ]
  },
  {
   "cell_type": "code",
   "execution_count": null,
   "metadata": {
    "collapsed": false,
    "scrolled": true
   },
   "outputs": [],
   "source": [
    "file = 'email_addresses.txt'\n",
    "extract_email_addresses(file)\n",
    "print('bye!')"
   ]
  },
  {
   "cell_type": "code",
   "execution_count": null,
   "metadata": {
    "collapsed": false
   },
   "outputs": [],
   "source": [
    "read_email_from_gmail()"
   ]
  }
 ],
 "metadata": {
  "kernelspec": {
   "display_name": "Python 3",
   "language": "python",
   "name": "python3"
  },
  "language_info": {
   "codemirror_mode": {
    "name": "ipython",
    "version": 3
   },
   "file_extension": ".py",
   "mimetype": "text/x-python",
   "name": "python",
   "nbconvert_exporter": "python",
   "pygments_lexer": "ipython3",
   "version": "3.6.0"
  }
 },
 "nbformat": 4,
 "nbformat_minor": 2
}
